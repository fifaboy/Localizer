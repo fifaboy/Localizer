{
 "cells": [
  {
   "cell_type": "code",
   "execution_count": null,
   "metadata": {},
   "outputs": [],
   "source": [
    "from darkflow.net.build import TFNet\n",
    "import os, sys\n",
    "from os.path import join\n",
    "import cv2\n",
    "import matplotlib.pyplot as plt\n",
    "import numpy as np\n",
    "\n",
    "%matplotlib inline"
   ]
  },
  {
   "cell_type": "code",
   "execution_count": null,
   "metadata": {},
   "outputs": [],
   "source": [
    "pwd = os.getcwd()\n",
    "imgdir = join(pwd, \"images\")\n",
    "annotdir = join(pwd, \"annotations\")\n",
    "options = {\n",
    "    \"labels\": 'labels.txt',\n",
    "    \"epoch\": 1000,\n",
    "    \"gpu\": 1.0,\n",
    "    \"train\": True,\n",
    "    \"trainer\": 'adam',\n",
    "    \"momentum\": 0.0,\n",
    "    \"batch\": 4,\n",
    "    \"json\": True,\n",
    "    \"threshold\": .2,\n",
    "    \"model\": 'cfg/yolov2.cfg',\n",
    "    \"load\": 'bin/yolov2.weights',\n",
    "    \"lr\": 1e-05,\n",
    "    \"annotation\": annotdir,\n",
    "    \"dataset\": imgdir,\n",
    "}"
   ]
  },
  {
   "cell_type": "code",
   "execution_count": null,
   "metadata": {},
   "outputs": [],
   "source": [
    "tfnet = TFNet(options)"
   ]
  },
  {
   "cell_type": "code",
   "execution_count": null,
   "metadata": {},
   "outputs": [],
   "source": [
    "tfnet.train()"
   ]
  }
 ],
 "metadata": {
  "kernelspec": {
   "display_name": "Python 3",
   "language": "python",
   "name": "python3"
  },
  "language_info": {
   "codemirror_mode": {
    "name": "ipython",
    "version": 3
   },
   "file_extension": ".py",
   "mimetype": "text/x-python",
   "name": "python",
   "nbconvert_exporter": "python",
   "pygments_lexer": "ipython3",
   "version": "3.6.7"
  }
 },
 "nbformat": 4,
 "nbformat_minor": 2
}
