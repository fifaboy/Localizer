{
 "cells": [
  {
   "cell_type": "code",
   "execution_count": null,
   "metadata": {},
   "outputs": [],
   "source": [
    "from darkflow.net.build import TFNet\n",
    "import os, sys\n",
    "from os.path import join\n",
    "import cv2\n",
    "import tensorflow as tf\n",
    "import matplotlib.pyplot as plt\n",
    "import numpy as np\n",
    "%matplotlib inline"
   ]
  },
  {
   "cell_type": "code",
   "execution_count": null,
   "metadata": {},
   "outputs": [],
   "source": [
    "config = tf.ConfigProto()\n",
    "config.gpu_options.allow_growth = True\n",
    "sess = tf.Session(config=config)"
   ]
  },
  {
   "cell_type": "code",
   "execution_count": null,
   "metadata": {},
   "outputs": [],
   "source": [
    "pwd = os.getcwd()\n",
    "imgdir = join(pwd, './test_images/')\n",
    "loaddir = join(pwd, './built_graph/')\n",
    "files = os.listdir(loaddir)\n",
    "pbfile = ''\n",
    "metafile = ''\n",
    "for file in files:\n",
    "    if file.endswith('pb'):\n",
    "        pbfile = join(loaddir, file)\n",
    "        pass\n",
    "    elif file.endswith('meta'):\n",
    "        metafile = join(loaddir, file)\n",
    "        pass\n",
    "    pass\n",
    "print(pbfile, metafile)"
   ]
  },
  {
   "cell_type": "code",
   "execution_count": null,
   "metadata": {},
   "outputs": [],
   "source": [
    "options = {\n",
    "    'pbLoad': pbfile,\n",
    "    'metaLoad': metafile,\n",
    "    'threshold': .3,\n",
    "    'gpu': 1.0,\n",
    "}"
   ]
  },
  {
   "cell_type": "code",
   "execution_count": null,
   "metadata": {},
   "outputs": [],
   "source": [
    "model = None\n",
    "if (not pbfile is None) and (not metafile is None):\n",
    "    model = TFNet(options)"
   ]
  },
  {
   "cell_type": "code",
   "execution_count": null,
   "metadata": {},
   "outputs": [],
   "source": [
    "def boxing(original_img , predictions):\n",
    "    newImage = np.copy(original_img)\n",
    "\n",
    "    for result in predictions:\n",
    "        top_x = result['topleft']['x']\n",
    "        top_y = result['topleft']['y']\n",
    "\n",
    "        btm_x = result['bottomright']['x']\n",
    "        btm_y = result['bottomright']['y']\n",
    "\n",
    "        confidence = result['confidence']\n",
    "        label = result['label'] + \" \" + str(round(confidence, 3))\n",
    "        \n",
    "        if confidence > options['threshold']:\n",
    "            newImage = cv2.rectangle(newImage, (top_x, top_y), (btm_x, btm_y), (255,0,0), 3)\n",
    "            newImage = cv2.putText(newImage, label, (top_x, top_y-5), cv2.FONT_HERSHEY_COMPLEX_SMALL , 0.8, (0, 230, 0), 1, cv2.LINE_AA)\n",
    "        \n",
    "    return newImage"
   ]
  },
  {
   "cell_type": "code",
   "execution_count": null,
   "metadata": {},
   "outputs": [],
   "source": [
    "for file in os.listdir(imgdir):\n",
    "    print(file)\n",
    "    img = cv2.imread(join(imgdir, file))\n",
    "    results = model.return_predict(img)\n",
    "    fig, ax = plt.subplots(figsize=(15, 15))\n",
    "    ax.imshow(boxing(img, results))"
   ]
  }
 ],
 "metadata": {
  "kernelspec": {
   "display_name": "Python 3",
   "language": "python",
   "name": "python3"
  },
  "language_info": {
   "codemirror_mode": {
    "name": "ipython",
    "version": 3
   },
   "file_extension": ".py",
   "mimetype": "text/x-python",
   "name": "python",
   "nbconvert_exporter": "python",
   "pygments_lexer": "ipython3",
   "version": "3.7.6"
  }
 },
 "nbformat": 4,
 "nbformat_minor": 2
}
