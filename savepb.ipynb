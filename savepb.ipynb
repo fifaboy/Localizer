{
 "cells": [
  {
   "cell_type": "code",
   "execution_count": 1,
   "metadata": {},
   "outputs": [
    {
     "name": "stdout",
     "output_type": "stream",
     "text": [
      "\n",
      "Parsing cfg/custom.cfg\n",
      "Loading bin/yolov2.weights ...\n"
     ]
    },
    {
     "name": "stderr",
     "output_type": "stream",
     "text": [
      "E:\\Personal Projects\\Localizer\\darkflow\\darkflow\\dark\\darknet.py:54: UserWarning: ./cfg/yolov2.cfg not found, use cfg/custom.cfg instead\n",
      "  cfg_path, FLAGS.model))\n",
      "Traceback (most recent call last):\n",
      "  File \"darkflow/flow\", line 6, in <module>\n",
      "    cliHandler(sys.argv)\n",
      "  File \"E:\\Personal Projects\\Localizer\\darkflow\\darkflow\\cli.py\", line 26, in cliHandler\n",
      "    tfnet = TFNet(FLAGS)\n",
      "  File \"E:\\Personal Projects\\Localizer\\darkflow\\darkflow\\net\\build.py\", line 58, in __init__\n",
      "    darknet = Darknet(FLAGS)\n",
      "  File \"E:\\Personal Projects\\Localizer\\darkflow\\darkflow\\dark\\darknet.py\", line 27, in __init__\n",
      "    self.load_weights()\n",
      "  File \"E:\\Personal Projects\\Localizer\\darkflow\\darkflow\\dark\\darknet.py\", line 82, in load_weights\n",
      "    wgts_loader = loader.create_loader(*args)\n",
      "  File \"E:\\Personal Projects\\Localizer\\darkflow\\darkflow\\utils\\loader.py\", line 105, in create_loader\n",
      "    return load_type(path, cfg)\n",
      "  File \"E:\\Personal Projects\\Localizer\\darkflow\\darkflow\\utils\\loader.py\", line 19, in __init__\n",
      "    self.load(*args)\n",
      "  File \"E:\\Personal Projects\\Localizer\\darkflow\\darkflow\\utils\\loader.py\", line 77, in load\n",
      "    walker.offset, walker.size)\n",
      "AssertionError: expect 203934220 bytes, found 203934260\n"
     ]
    }
   ],
   "source": [
    "! python3 darkflow/flow --model cfg/custom.cfg --load bin/yolov2.weights --savepb"
   ]
  },
  {
   "cell_type": "code",
   "execution_count": null,
   "metadata": {},
   "outputs": [],
   "source": []
  }
 ],
 "metadata": {
  "kernelspec": {
   "display_name": "Python 3",
   "language": "python",
   "name": "python3"
  },
  "language_info": {
   "codemirror_mode": {
    "name": "ipython",
    "version": 3
   },
   "file_extension": ".py",
   "mimetype": "text/x-python",
   "name": "python",
   "nbconvert_exporter": "python",
   "pygments_lexer": "ipython3",
   "version": "3.6.7"
  }
 },
 "nbformat": 4,
 "nbformat_minor": 2
}
