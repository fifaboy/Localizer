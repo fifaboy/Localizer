{
 "cells": [
  {
   "cell_type": "code",
   "execution_count": 1,
   "metadata": {},
   "outputs": [
    {
     "name": "stdout",
     "output_type": "stream",
     "text": [
      "Requirement already up-to-date: pyqt5 in c:\\program files\\python36\\lib\\site-packages (5.12.1)\n",
      "Requirement already satisfied, skipping upgrade: PyQt5_sip<4.20,>=4.19.14 in c:\\program files\\python36\\lib\\site-packages (from pyqt5) (4.19.15)\n"
     ]
    }
   ],
   "source": [
    "! python3 -m pip install -U pyqt5"
   ]
  },
  {
   "cell_type": "code",
   "execution_count": 2,
   "metadata": {},
   "outputs": [
    {
     "name": "stdout",
     "output_type": "stream",
     "text": [
      "Requirement already up-to-date: cython in c:\\program files\\python36\\lib\\site-packages (0.29.6)\n"
     ]
    }
   ],
   "source": [
    "! python3 -m pip install -U cython"
   ]
  },
  {
   "cell_type": "code",
   "execution_count": 3,
   "metadata": {},
   "outputs": [
    {
     "name": "stdout",
     "output_type": "stream",
     "text": [
      "Requirement already up-to-date: lxml in c:\\program files\\python36\\lib\\site-packages (4.3.3)\n"
     ]
    }
   ],
   "source": [
    "! python3 -m pip install -U lxml"
   ]
  },
  {
   "cell_type": "code",
   "execution_count": 5,
   "metadata": {},
   "outputs": [],
   "source": [
    "! pyrcc5 -o labelimg/resources.py labelimg/resources.qrc"
   ]
  },
  {
   "cell_type": "code",
   "execution_count": 6,
   "metadata": {},
   "outputs": [],
   "source": [
    "! python3 labelimg/labelImg.py"
   ]
  }
 ],
 "metadata": {
  "kernelspec": {
   "display_name": "Python 3",
   "language": "python",
   "name": "python3"
  },
  "language_info": {
   "codemirror_mode": {
    "name": "ipython",
    "version": 3
   },
   "file_extension": ".py",
   "mimetype": "text/x-python",
   "name": "python",
   "nbconvert_exporter": "python",
   "pygments_lexer": "ipython3",
   "version": "3.6.7"
  }
 },
 "nbformat": 4,
 "nbformat_minor": 2
}
