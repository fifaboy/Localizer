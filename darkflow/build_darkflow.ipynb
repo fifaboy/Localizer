{
 "cells": [
  {
   "cell_type": "code",
   "execution_count": 1,
   "metadata": {},
   "outputs": [
    {
     "name": "stdout",
     "output_type": "stream",
     "text": [
      "running build_ext\n",
      "copying build\\lib.win-amd64-3.7\\darkflow\\cython_utils\\nms.cp37-win_amd64.pyd -> darkflow\\cython_utils\n",
      "copying build\\lib.win-amd64-3.7\\darkflow\\cython_utils\\cy_yolo2_findboxes.cp37-win_amd64.pyd -> darkflow\\cython_utils\n",
      "copying build\\lib.win-amd64-3.7\\darkflow\\cython_utils\\cy_yolo_findboxes.cp37-win_amd64.pyd -> darkflow\\cython_utils\n"
     ]
    }
   ],
   "source": [
    "! python setup.py build_ext --inplace"
   ]
  },
  {
   "cell_type": "code",
   "execution_count": 2,
   "metadata": {},
   "outputs": [
    {
     "name": "stdout",
     "output_type": "stream",
     "text": [
      "Obtaining file:///E:/Projects/Localizer/darkflow\n",
      "Installing collected packages: darkflow\n",
      "  Running setup.py develop for darkflow\n",
      "Successfully installed darkflow\n"
     ]
    }
   ],
   "source": [
    "! pip install -e ."
   ]
  },
  {
   "cell_type": "code",
   "execution_count": 3,
   "metadata": {},
   "outputs": [
    {
     "name": "stdout",
     "output_type": "stream",
     "text": [
      "Processing e:\\projects\\localizer\\darkflow\n",
      "Building wheels for collected packages: darkflow\n",
      "  Building wheel for darkflow (setup.py): started\n",
      "  Building wheel for darkflow (setup.py): finished with status 'done'\n",
      "  Stored in directory: C:\\Users\\USER\\AppData\\Local\\Temp\\pip-ephem-wheel-cache-96pe2n8j\\wheels\\d6\\e0\\91\\b335765dcfe5e413a98ba03741ee9a2d74ce013c3cdf7ecabf\n",
      "Successfully built darkflow\n",
      "Installing collected packages: darkflow\n",
      "  Found existing installation: darkflow 1.0.0\n",
      "    Uninstalling darkflow-1.0.0:\n",
      "      Successfully uninstalled darkflow-1.0.0\n",
      "Successfully installed darkflow-1.0.0\n"
     ]
    }
   ],
   "source": [
    "! pip install -U ."
   ]
  }
 ],
 "metadata": {
  "kernelspec": {
   "display_name": "Python 3",
   "language": "python",
   "name": "python3"
  },
  "language_info": {
   "codemirror_mode": {
    "name": "ipython",
    "version": 3
   },
   "file_extension": ".py",
   "mimetype": "text/x-python",
   "name": "python",
   "nbconvert_exporter": "python",
   "pygments_lexer": "ipython3",
   "version": "3.7.3"
  }
 },
 "nbformat": 4,
 "nbformat_minor": 2
}
