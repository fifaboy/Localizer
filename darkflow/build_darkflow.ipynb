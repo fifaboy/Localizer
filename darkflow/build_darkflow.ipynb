{
 "cells": [
  {
   "cell_type": "code",
   "execution_count": 1,
   "metadata": {},
   "outputs": [
    {
     "name": "stdout",
     "output_type": "stream",
     "text": [
      "Compiling darkflow/cython_utils/nms.pyx because it changed.\n",
      "Compiling darkflow/cython_utils/cy_yolo2_findboxes.pyx because it changed.\n",
      "Compiling darkflow/cython_utils/cy_yolo_findboxes.pyx because it changed.\n",
      "[1/3] Cythonizing darkflow/cython_utils/cy_yolo2_findboxes.pyx\n",
      "[2/3] Cythonizing darkflow/cython_utils/cy_yolo_findboxes.pyx\n",
      "[3/3] Cythonizing darkflow/cython_utils/nms.pyx\n",
      "running build_ext\n",
      "building 'darkflow.cython_utils.nms' extension\n",
      "creating build\n",
      "creating build\\temp.win-amd64-3.6\n",
      "creating build\\temp.win-amd64-3.6\\Release\n",
      "creating build\\temp.win-amd64-3.6\\Release\\darkflow\n",
      "creating build\\temp.win-amd64-3.6\\Release\\darkflow\\cython_utils\n",
      "C:\\Program Files (x86)\\Microsoft Visual Studio\\2017\\Community\\VC\\Tools\\MSVC\\14.16.27023\\bin\\HostX86\\x64\\cl.exe /c /nologo /Ox /W3 /GL /DNDEBUG /MD \"-IC:\\Program Files\\Python36\\lib\\site-packages\\numpy\\core\\include\" \"-IC:\\Program Files\\Python36\\include\" \"-IC:\\Program Files\\Python36\\include\" \"-IC:\\Program Files (x86)\\Microsoft Visual Studio\\2017\\Community\\VC\\Tools\\MSVC\\14.16.27023\\ATLMFC\\include\" \"-IC:\\Program Files (x86)\\Microsoft Visual Studio\\2017\\Community\\VC\\Tools\\MSVC\\14.16.27023\\include\" \"-IC:\\Program Files (x86)\\Windows Kits\\NETFXSDK\\4.6.1\\include\\um\" \"-IC:\\Program Files (x86)\\Windows Kits\\10\\include\\10.0.17763.0\\ucrt\" \"-IC:\\Program Files (x86)\\Windows Kits\\10\\include\\10.0.17763.0\\shared\" \"-IC:\\Program Files (x86)\\Windows Kits\\10\\include\\10.0.17763.0\\um\" \"-IC:\\Program Files (x86)\\Windows Kits\\10\\include\\10.0.17763.0\\winrt\" \"-IC:\\Program Files (x86)\\Windows Kits\\10\\include\\10.0.17763.0\\cppwinrt\" /Tcdarkflow/cython_utils/nms.c /Fobuild\\temp.win-amd64-3.6\\Release\\darkflow/cython_utils/nms.obj\n",
      "nms.c\n",
      "c:\\program files\\python36\\lib\\site-packages\\numpy\\core\\include\\numpy\\npy_1_7_deprecated_api.h(12) : Warning Msg: Using deprecated NumPy API, disable it by #defining NPY_NO_DEPRECATED_API NPY_1_7_API_VERSION\n",
      "darkflow/cython_utils/nms.c(2521): warning C4244: '=': conversion from 'double' to 'float', possible loss of data\n",
      "darkflow/cython_utils/nms.c(2530): warning C4244: '=': conversion from 'double' to 'float', possible loss of data\n",
      "darkflow/cython_utils/nms.c(2580): warning C4244: '=': conversion from 'double' to 'float', possible loss of data\n",
      "creating E:\\Personal Projects\\Localizer\\darkflow\\build\\lib.win-amd64-3.6\n",
      "creating E:\\Personal Projects\\Localizer\\darkflow\\build\\lib.win-amd64-3.6\\darkflow\n",
      "creating E:\\Personal Projects\\Localizer\\darkflow\\build\\lib.win-amd64-3.6\\darkflow\\cython_utils\n",
      "C:\\Program Files (x86)\\Microsoft Visual Studio\\2017\\Community\\VC\\Tools\\MSVC\\14.16.27023\\bin\\HostX86\\x64\\link.exe /nologo /INCREMENTAL:NO /LTCG /DLL /MANIFEST:EMBED,ID=2 /MANIFESTUAC:NO \"/LIBPATH:C:\\Program Files\\Python36\\libs\" \"/LIBPATH:C:\\Program Files\\Python36\\PCbuild\\amd64\" \"/LIBPATH:C:\\Program Files (x86)\\Microsoft Visual Studio\\2017\\Community\\VC\\Tools\\MSVC\\14.16.27023\\ATLMFC\\lib\\x64\" \"/LIBPATH:C:\\Program Files (x86)\\Microsoft Visual Studio\\2017\\Community\\VC\\Tools\\MSVC\\14.16.27023\\lib\\x64\" \"/LIBPATH:C:\\Program Files (x86)\\Windows Kits\\NETFXSDK\\4.6.1\\lib\\um\\x64\" \"/LIBPATH:C:\\Program Files (x86)\\Windows Kits\\10\\lib\\10.0.17763.0\\ucrt\\x64\" \"/LIBPATH:C:\\Program Files (x86)\\Windows Kits\\10\\lib\\10.0.17763.0\\um\\x64\" /EXPORT:PyInit_nms build\\temp.win-amd64-3.6\\Release\\darkflow/cython_utils/nms.obj /OUT:build\\lib.win-amd64-3.6\\darkflow\\cython_utils\\nms.cp36-win_amd64.pyd /IMPLIB:build\\temp.win-amd64-3.6\\Release\\darkflow/cython_utils\\nms.cp36-win_amd64.lib\n",
      "   Creating library build\\temp.win-amd64-3.6\\Release\\darkflow/cython_utils\\nms.cp36-win_amd64.lib and object build\\temp.win-amd64-3.6\\Release\\darkflow/cython_utils\\nms.cp36-win_amd64.exp\n",
      "Generating code\n",
      "Finished generating code\n",
      "building 'darkflow.cython_utils.cy_yolo2_findboxes' extension\n",
      "C:\\Program Files (x86)\\Microsoft Visual Studio\\2017\\Community\\VC\\Tools\\MSVC\\14.16.27023\\bin\\HostX86\\x64\\cl.exe /c /nologo /Ox /W3 /GL /DNDEBUG /MD \"-IC:\\Program Files\\Python36\\lib\\site-packages\\numpy\\core\\include\" \"-IC:\\Program Files\\Python36\\include\" \"-IC:\\Program Files\\Python36\\include\" \"-IC:\\Program Files (x86)\\Microsoft Visual Studio\\2017\\Community\\VC\\Tools\\MSVC\\14.16.27023\\ATLMFC\\include\" \"-IC:\\Program Files (x86)\\Microsoft Visual Studio\\2017\\Community\\VC\\Tools\\MSVC\\14.16.27023\\include\" \"-IC:\\Program Files (x86)\\Windows Kits\\NETFXSDK\\4.6.1\\include\\um\" \"-IC:\\Program Files (x86)\\Windows Kits\\10\\include\\10.0.17763.0\\ucrt\" \"-IC:\\Program Files (x86)\\Windows Kits\\10\\include\\10.0.17763.0\\shared\" \"-IC:\\Program Files (x86)\\Windows Kits\\10\\include\\10.0.17763.0\\um\" \"-IC:\\Program Files (x86)\\Windows Kits\\10\\include\\10.0.17763.0\\winrt\" \"-IC:\\Program Files (x86)\\Windows Kits\\10\\include\\10.0.17763.0\\cppwinrt\" /Tcdarkflow/cython_utils/cy_yolo2_findboxes.c /Fobuild\\temp.win-amd64-3.6\\Release\\darkflow/cython_utils/cy_yolo2_findboxes.obj\n",
      "cy_yolo2_findboxes.c\n",
      "c:\\program files\\python36\\lib\\site-packages\\numpy\\core\\include\\numpy\\npy_1_7_deprecated_api.h(12) : Warning Msg: Using deprecated NumPy API, disable it by #defining NPY_NO_DEPRECATED_API NPY_1_7_API_VERSION\n",
      "darkflow/cython_utils/cy_yolo2_findboxes.c(2627): warning C4244: '=': conversion from 'double' to 'float', possible loss of data\n",
      "darkflow/cython_utils/cy_yolo2_findboxes.c(3417): warning C4244: '=': conversion from 'double' to 'float', possible loss of data\n",
      "darkflow/cython_utils/cy_yolo2_findboxes.c(3435): warning C4244: '=': conversion from 'double' to 'float', possible loss of data\n",
      "darkflow/cython_utils/cy_yolo2_findboxes.c(3490): warning C4244: '=': conversion from 'double' to 'float', possible loss of data\n",
      "C:\\Program Files (x86)\\Microsoft Visual Studio\\2017\\Community\\VC\\Tools\\MSVC\\14.16.27023\\bin\\HostX86\\x64\\link.exe /nologo /INCREMENTAL:NO /LTCG /DLL /MANIFEST:EMBED,ID=2 /MANIFESTUAC:NO \"/LIBPATH:C:\\Program Files\\Python36\\libs\" \"/LIBPATH:C:\\Program Files\\Python36\\PCbuild\\amd64\" \"/LIBPATH:C:\\Program Files (x86)\\Microsoft Visual Studio\\2017\\Community\\VC\\Tools\\MSVC\\14.16.27023\\ATLMFC\\lib\\x64\" \"/LIBPATH:C:\\Program Files (x86)\\Microsoft Visual Studio\\2017\\Community\\VC\\Tools\\MSVC\\14.16.27023\\lib\\x64\" \"/LIBPATH:C:\\Program Files (x86)\\Windows Kits\\NETFXSDK\\4.6.1\\lib\\um\\x64\" \"/LIBPATH:C:\\Program Files (x86)\\Windows Kits\\10\\lib\\10.0.17763.0\\ucrt\\x64\" \"/LIBPATH:C:\\Program Files (x86)\\Windows Kits\\10\\lib\\10.0.17763.0\\um\\x64\" /EXPORT:PyInit_cy_yolo2_findboxes build\\temp.win-amd64-3.6\\Release\\darkflow/cython_utils/cy_yolo2_findboxes.obj /OUT:build\\lib.win-amd64-3.6\\darkflow\\cython_utils\\cy_yolo2_findboxes.cp36-win_amd64.pyd /IMPLIB:build\\temp.win-amd64-3.6\\Release\\darkflow/cython_utils\\cy_yolo2_findboxes.cp36-win_amd64.lib\n",
      "   Creating library build\\temp.win-amd64-3.6\\Release\\darkflow/cython_utils\\cy_yolo2_findboxes.cp36-win_amd64.lib and object build\\temp.win-amd64-3.6\\Release\\darkflow/cython_utils\\cy_yolo2_findboxes.cp36-win_amd64.exp\n",
      "Generating code\n",
      "Finished generating code\n",
      "building 'darkflow.cython_utils.cy_yolo_findboxes' extension\n",
      "C:\\Program Files (x86)\\Microsoft Visual Studio\\2017\\Community\\VC\\Tools\\MSVC\\14.16.27023\\bin\\HostX86\\x64\\cl.exe /c /nologo /Ox /W3 /GL /DNDEBUG /MD \"-IC:\\Program Files\\Python36\\lib\\site-packages\\numpy\\core\\include\" \"-IC:\\Program Files\\Python36\\include\" \"-IC:\\Program Files\\Python36\\include\" \"-IC:\\Program Files (x86)\\Microsoft Visual Studio\\2017\\Community\\VC\\Tools\\MSVC\\14.16.27023\\ATLMFC\\include\" \"-IC:\\Program Files (x86)\\Microsoft Visual Studio\\2017\\Community\\VC\\Tools\\MSVC\\14.16.27023\\include\" \"-IC:\\Program Files (x86)\\Windows Kits\\NETFXSDK\\4.6.1\\include\\um\" \"-IC:\\Program Files (x86)\\Windows Kits\\10\\include\\10.0.17763.0\\ucrt\" \"-IC:\\Program Files (x86)\\Windows Kits\\10\\include\\10.0.17763.0\\shared\" \"-IC:\\Program Files (x86)\\Windows Kits\\10\\include\\10.0.17763.0\\um\" \"-IC:\\Program Files (x86)\\Windows Kits\\10\\include\\10.0.17763.0\\winrt\" \"-IC:\\Program Files (x86)\\Windows Kits\\10\\include\\10.0.17763.0\\cppwinrt\" /Tcdarkflow/cython_utils/cy_yolo_findboxes.c /Fobuild\\temp.win-amd64-3.6\\Release\\darkflow/cython_utils/cy_yolo_findboxes.obj\n",
      "cy_yolo_findboxes.c\n",
      "c:\\program files\\python36\\lib\\site-packages\\numpy\\core\\include\\numpy\\npy_1_7_deprecated_api.h(12) : Warning Msg: Using deprecated NumPy API, disable it by #defining NPY_NO_DEPRECATED_API NPY_1_7_API_VERSION\n",
      "C:\\Program Files (x86)\\Microsoft Visual Studio\\2017\\Community\\VC\\Tools\\MSVC\\14.16.27023\\bin\\HostX86\\x64\\link.exe /nologo /INCREMENTAL:NO /LTCG /DLL /MANIFEST:EMBED,ID=2 /MANIFESTUAC:NO \"/LIBPATH:C:\\Program Files\\Python36\\libs\" \"/LIBPATH:C:\\Program Files\\Python36\\PCbuild\\amd64\" \"/LIBPATH:C:\\Program Files (x86)\\Microsoft Visual Studio\\2017\\Community\\VC\\Tools\\MSVC\\14.16.27023\\ATLMFC\\lib\\x64\" \"/LIBPATH:C:\\Program Files (x86)\\Microsoft Visual Studio\\2017\\Community\\VC\\Tools\\MSVC\\14.16.27023\\lib\\x64\" \"/LIBPATH:C:\\Program Files (x86)\\Windows Kits\\NETFXSDK\\4.6.1\\lib\\um\\x64\" \"/LIBPATH:C:\\Program Files (x86)\\Windows Kits\\10\\lib\\10.0.17763.0\\ucrt\\x64\" \"/LIBPATH:C:\\Program Files (x86)\\Windows Kits\\10\\lib\\10.0.17763.0\\um\\x64\" /EXPORT:PyInit_cy_yolo_findboxes build\\temp.win-amd64-3.6\\Release\\darkflow/cython_utils/cy_yolo_findboxes.obj /OUT:build\\lib.win-amd64-3.6\\darkflow\\cython_utils\\cy_yolo_findboxes.cp36-win_amd64.pyd /IMPLIB:build\\temp.win-amd64-3.6\\Release\\darkflow/cython_utils\\cy_yolo_findboxes.cp36-win_amd64.lib\n",
      "   Creating library build\\temp.win-amd64-3.6\\Release\\darkflow/cython_utils\\cy_yolo_findboxes.cp36-win_amd64.lib and object build\\temp.win-amd64-3.6\\Release\\darkflow/cython_utils\\cy_yolo_findboxes.cp36-win_amd64.exp\n",
      "Generating code\n",
      "Finished generating code\n",
      "copying build\\lib.win-amd64-3.6\\darkflow\\cython_utils\\nms.cp36-win_amd64.pyd -> darkflow\\cython_utils\n",
      "copying build\\lib.win-amd64-3.6\\darkflow\\cython_utils\\cy_yolo2_findboxes.cp36-win_amd64.pyd -> darkflow\\cython_utils\n",
      "copying build\\lib.win-amd64-3.6\\darkflow\\cython_utils\\cy_yolo_findboxes.cp36-win_amd64.pyd -> darkflow\\cython_utils\n"
     ]
    },
    {
     "name": "stderr",
     "output_type": "stream",
     "text": [
      "C:\\Program Files\\Python36\\lib\\site-packages\\Cython\\Compiler\\Main.py:367: FutureWarning: Cython directive 'language_level' not set, using 2 for now (Py2). This will change in a later release! File: E:\\Personal Projects\\Localizer\\darkflow\\darkflow\\cython_utils\\cy_yolo2_findboxes.pyx\n",
      "  tree = Parsing.p_module(s, pxd, full_module_name)\n",
      "C:\\Program Files\\Python36\\lib\\site-packages\\Cython\\Compiler\\Main.py:367: FutureWarning: Cython directive 'language_level' not set, using 2 for now (Py2). This will change in a later release! File: E:\\Personal Projects\\Localizer\\darkflow\\darkflow\\cython_utils\\cy_yolo_findboxes.pyx\n",
      "  tree = Parsing.p_module(s, pxd, full_module_name)\n",
      "C:\\Program Files\\Python36\\lib\\site-packages\\Cython\\Compiler\\Main.py:367: FutureWarning: Cython directive 'language_level' not set, using 2 for now (Py2). This will change in a later release! File: E:\\Personal Projects\\Localizer\\darkflow\\darkflow\\cython_utils\\nms.pxd\n",
      "  tree = Parsing.p_module(s, pxd, full_module_name)\n"
     ]
    }
   ],
   "source": [
    "! python3 setup.py build_ext --inplace"
   ]
  },
  {
   "cell_type": "code",
   "execution_count": 2,
   "metadata": {},
   "outputs": [
    {
     "name": "stdout",
     "output_type": "stream",
     "text": [
      "Obtaining file:///E:/Personal%20Projects/Localizer/darkflow\n",
      "Installing collected packages: darkflow\n",
      "  Found existing installation: darkflow 1.0.0\n",
      "    Can't uninstall 'darkflow'. No files were found to uninstall.\n",
      "  Running setup.py develop for darkflow\n",
      "Successfully installed darkflow\n"
     ]
    }
   ],
   "source": [
    "! python3 -m pip install -e ."
   ]
  },
  {
   "cell_type": "code",
   "execution_count": 3,
   "metadata": {},
   "outputs": [
    {
     "name": "stdout",
     "output_type": "stream",
     "text": [
      "Processing e:\\personal projects\\localizer\\darkflow\n",
      "Building wheels for collected packages: darkflow\n",
      "  Building wheel for darkflow (setup.py): started\n",
      "  Building wheel for darkflow (setup.py): finished with status 'done'\n",
      "  Stored in directory: C:\\Users\\billa\\AppData\\Local\\Temp\\pip-ephem-wheel-cache-_yyor7la\\wheels\\d8\\f8\\35\\99a883348dd9a34c20339e94a717d7857dab3747ab63b923b2\n",
      "Successfully built darkflow\n",
      "Installing collected packages: darkflow\n",
      "  Found existing installation: darkflow 1.0.0\n",
      "    Uninstalling darkflow-1.0.0:\n",
      "      Successfully uninstalled darkflow-1.0.0\n",
      "Successfully installed darkflow-1.0.0\n"
     ]
    }
   ],
   "source": [
    "! python3 -m pip install -U ."
   ]
  },
  {
   "cell_type": "code",
   "execution_count": null,
   "metadata": {},
   "outputs": [],
   "source": []
  }
 ],
 "metadata": {
  "kernelspec": {
   "display_name": "Python 3",
   "language": "python",
   "name": "python3"
  },
  "language_info": {
   "codemirror_mode": {
    "name": "ipython",
    "version": 3
   },
   "file_extension": ".py",
   "mimetype": "text/x-python",
   "name": "python",
   "nbconvert_exporter": "python",
   "pygments_lexer": "ipython3",
   "version": "3.6.7"
  }
 },
 "nbformat": 4,
 "nbformat_minor": 2
}
