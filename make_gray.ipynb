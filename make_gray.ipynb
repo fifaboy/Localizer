{
 "cells": [
  {
   "cell_type": "code",
   "execution_count": 1,
   "metadata": {},
   "outputs": [
    {
     "name": "stdout",
     "output_type": "stream",
     "text": [
      "Requirement already up-to-date: opencv-python in c:\\programdata\\anaconda3\\lib\\site-packages (4.3.0.36)\n",
      "Requirement already satisfied, skipping upgrade: numpy>=1.14.5 in c:\\programdata\\anaconda3\\lib\\site-packages (from opencv-python) (1.18.1)\n"
     ]
    }
   ],
   "source": [
    "! pip install -U opencv-python\n",
    "\n",
    "import os, sys\n",
    "from os.path import join\n",
    "import cv2"
   ]
  },
  {
   "cell_type": "code",
   "execution_count": 2,
   "metadata": {},
   "outputs": [],
   "source": [
    "pwd = os.getcwd()\n",
    "imgdir = join(pwd, \"images/\")\n",
    "annotdir = join(pwd, \"annotations\")"
   ]
  },
  {
   "cell_type": "code",
   "execution_count": 3,
   "metadata": {},
   "outputs": [],
   "source": [
    "def convert_to_gray(imgpath):\n",
    "    img = cv2.imread(imgpath)\n",
    "    gray_img = cv2.cvtColor(img, cv2.COLOR_BGR2GRAY)\n",
    "    cv2.imwrite(imgpath, gray_img)"
   ]
  },
  {
   "cell_type": "code",
   "execution_count": 4,
   "metadata": {},
   "outputs": [],
   "source": [
    "def convert():\n",
    "    images = os.listdir(imgdir)\n",
    "    for file in images:\n",
    "        if file.lower().endswith('.jpg'):\n",
    "            print(file)\n",
    "            path = join(imgdir, file)\n",
    "            convert_to_gray(path)"
   ]
  },
  {
   "cell_type": "code",
   "execution_count": 5,
   "metadata": {},
   "outputs": [
    {
     "name": "stdout",
     "output_type": "stream",
     "text": [
      "1.JPG\n",
      "10.JPG\n",
      "11.JPG\n",
      "12.JPG\n",
      "13.JPG\n",
      "14.JPG\n",
      "15.JPG\n",
      "16.JPG\n",
      "17.JPG\n",
      "19.JPG\n",
      "2.jpg\n",
      "20.JPG\n",
      "21.JPG\n",
      "22.JPG\n",
      "23.JPG\n",
      "24.JPG\n",
      "25.JPG\n",
      "3.jpg\n",
      "4.JPG\n",
      "5.JPG\n",
      "6.JPG\n",
      "7.JPG\n",
      "8.JPG\n",
      "9.JPG\n"
     ]
    }
   ],
   "source": [
    "convert()"
   ]
  }
 ],
 "metadata": {
  "kernelspec": {
   "display_name": "Python 3",
   "language": "python",
   "name": "python3"
  },
  "language_info": {
   "codemirror_mode": {
    "name": "ipython",
    "version": 3
   },
   "file_extension": ".py",
   "mimetype": "text/x-python",
   "name": "python",
   "nbconvert_exporter": "python",
   "pygments_lexer": "ipython3",
   "version": "3.7.6"
  }
 },
 "nbformat": 4,
 "nbformat_minor": 2
}
